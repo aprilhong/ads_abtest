{
 "cells": [
  {
   "cell_type": "markdown",
   "metadata": {},
   "source": [
    "# Marketing A/B testing dataset\n",
    "https://www.kaggle.com/datasets/faviovaz/marketing-ab-testing/data\n",
    "\n",
    "Marketing companies want to run successful campaigns, but the market is complex and several options can work. So normally they tun A/B tests, that is a randomized experimentation process wherein two or more versions of a variable (web page, page element, banner, etc.) are shown to different segments of people at the same time to determine which version leaves the maximum impact and drive business metrics.\n",
    "\n",
    "The companies are interested in answering two questions:\n",
    "\n",
    "1. Would the campaign be successful?\n",
    "2. If the campaign was successful, how much of that success could be attributed to the ads?\n",
    "\n",
    "With the second question in mind, we normally do an A/B test. The majority of the people will be exposed to ads (the experimental group). And a small portion of people (the control group) would instead see a Public Service Announcement (PSA) (or nothing) in the exact size and place the ad would normally be."
   ]
  },
  {
   "cell_type": "markdown",
   "metadata": {},
   "source": [
    "# Assumptions"
   ]
  },
  {
   "cell_type": "markdown",
   "metadata": {},
   "source": [
    "Since no success criteria was provided in the prompt, the campaign is considered at success if the conversion rate for ad group is at least 20% higher than that of the psa group. \n",
    "\n",
    "**Success criteria** = conversion rate in ad group is at least **20% higher** than psa group"
   ]
  },
  {
   "cell_type": "markdown",
   "metadata": {},
   "source": [
    "# Imports"
   ]
  },
  {
   "cell_type": "code",
   "execution_count": 101,
   "metadata": {},
   "outputs": [],
   "source": [
    "# For data manipulation\n",
    "import numpy as np\n",
    "import pandas as pd\n",
    "\n",
    "# For data visualization\n",
    "import matplotlib.pyplot as plt\n",
    "import seaborn as sns\n",
    "\n",
    "import warnings\n",
    "warnings.simplefilter(action='ignore', category=FutureWarning)"
   ]
  },
  {
   "cell_type": "markdown",
   "metadata": {},
   "source": [
    "**Load Dataset**"
   ]
  },
  {
   "cell_type": "code",
   "execution_count": 102,
   "metadata": {},
   "outputs": [
    {
     "data": {
      "text/html": [
       "<div>\n",
       "<style scoped>\n",
       "    .dataframe tbody tr th:only-of-type {\n",
       "        vertical-align: middle;\n",
       "    }\n",
       "\n",
       "    .dataframe tbody tr th {\n",
       "        vertical-align: top;\n",
       "    }\n",
       "\n",
       "    .dataframe thead th {\n",
       "        text-align: right;\n",
       "    }\n",
       "</style>\n",
       "<table border=\"1\" class=\"dataframe\">\n",
       "  <thead>\n",
       "    <tr style=\"text-align: right;\">\n",
       "      <th></th>\n",
       "      <th>user id</th>\n",
       "      <th>test group</th>\n",
       "      <th>converted</th>\n",
       "      <th>total ads</th>\n",
       "      <th>most ads day</th>\n",
       "      <th>most ads hour</th>\n",
       "    </tr>\n",
       "  </thead>\n",
       "  <tbody>\n",
       "    <tr>\n",
       "      <th>0</th>\n",
       "      <td>1069124</td>\n",
       "      <td>ad</td>\n",
       "      <td>False</td>\n",
       "      <td>130</td>\n",
       "      <td>Monday</td>\n",
       "      <td>20</td>\n",
       "    </tr>\n",
       "    <tr>\n",
       "      <th>1</th>\n",
       "      <td>1119715</td>\n",
       "      <td>ad</td>\n",
       "      <td>False</td>\n",
       "      <td>93</td>\n",
       "      <td>Tuesday</td>\n",
       "      <td>22</td>\n",
       "    </tr>\n",
       "    <tr>\n",
       "      <th>2</th>\n",
       "      <td>1144181</td>\n",
       "      <td>ad</td>\n",
       "      <td>False</td>\n",
       "      <td>21</td>\n",
       "      <td>Tuesday</td>\n",
       "      <td>18</td>\n",
       "    </tr>\n",
       "    <tr>\n",
       "      <th>3</th>\n",
       "      <td>1435133</td>\n",
       "      <td>ad</td>\n",
       "      <td>False</td>\n",
       "      <td>355</td>\n",
       "      <td>Tuesday</td>\n",
       "      <td>10</td>\n",
       "    </tr>\n",
       "    <tr>\n",
       "      <th>4</th>\n",
       "      <td>1015700</td>\n",
       "      <td>ad</td>\n",
       "      <td>False</td>\n",
       "      <td>276</td>\n",
       "      <td>Friday</td>\n",
       "      <td>14</td>\n",
       "    </tr>\n",
       "  </tbody>\n",
       "</table>\n",
       "</div>"
      ],
      "text/plain": [
       "   user id test group  converted  total ads most ads day  most ads hour\n",
       "0  1069124         ad      False        130       Monday             20\n",
       "1  1119715         ad      False         93      Tuesday             22\n",
       "2  1144181         ad      False         21      Tuesday             18\n",
       "3  1435133         ad      False        355      Tuesday             10\n",
       "4  1015700         ad      False        276       Friday             14"
      ]
     },
     "execution_count": 102,
     "metadata": {},
     "output_type": "execute_result"
    }
   ],
   "source": [
    "# Load dataset into a dataframe\n",
    "df = pd.read_csv('data\\marketing_AB.csv', index_col = 0)\n",
    "\n",
    "# Display first few rows of the dataframe\n",
    "df.head()"
   ]
  },
  {
   "cell_type": "markdown",
   "metadata": {},
   "source": [
    "\n",
    "**Data dictionary:**\n",
    "Variable  |Description |\n",
    "-----|-----|\n",
    "user id | User ID (unique)|\n",
    "test group| If \"ad\" the person saw the advertisement; if \"psa\" they only saw the public service announcement|\n",
    "converted| If a person bought the product then True, else is False|\n",
    "total ads| Amount of ads seen by person|\n",
    "most ads day| Day that the person saw the biggest amount of ads|\n",
    "most ads hour| Hour of day that the person saw the biggest amount of ads|\n"
   ]
  },
  {
   "cell_type": "markdown",
   "metadata": {},
   "source": [
    "# Data Discovery"
   ]
  },
  {
   "cell_type": "code",
   "execution_count": 103,
   "metadata": {},
   "outputs": [
    {
     "name": "stdout",
     "output_type": "stream",
     "text": [
      "<class 'pandas.core.frame.DataFrame'>\n",
      "Index: 588101 entries, 0 to 588100\n",
      "Data columns (total 6 columns):\n",
      " #   Column         Non-Null Count   Dtype \n",
      "---  ------         --------------   ----- \n",
      " 0   user id        588101 non-null  int64 \n",
      " 1   test group     588101 non-null  object\n",
      " 2   converted      588101 non-null  bool  \n",
      " 3   total ads      588101 non-null  int64 \n",
      " 4   most ads day   588101 non-null  object\n",
      " 5   most ads hour  588101 non-null  int64 \n",
      "dtypes: bool(1), int64(3), object(2)\n",
      "memory usage: 27.5+ MB\n"
     ]
    }
   ],
   "source": [
    "# Gather basic information about the data\n",
    "df.info()"
   ]
  },
  {
   "cell_type": "markdown",
   "metadata": {},
   "source": [
    "- dataset has a total of 588101 rows and 6 columns\n",
    "- each rows represents a viewer\n",
    "- each column displays the viewer's ad experience\n",
    "- 3 Categorical Variables: test group, converted, most ads day \n",
    "- 3 Numerical Variables: user id, total ads,most ads hour \n",
    "- There are no null values "
   ]
  },
  {
   "cell_type": "markdown",
   "metadata": {},
   "source": [
    "**Size of Data**"
   ]
  },
  {
   "cell_type": "code",
   "execution_count": 104,
   "metadata": {},
   "outputs": [
    {
     "data": {
      "text/plain": [
       "3528606"
      ]
     },
     "execution_count": 104,
     "metadata": {},
     "output_type": "execute_result"
    }
   ],
   "source": [
    "# How large is he dataset\n",
    "df.size"
   ]
  },
  {
   "cell_type": "markdown",
   "metadata": {},
   "source": [
    "Dataset has 3.53M values"
   ]
  },
  {
   "cell_type": "code",
   "execution_count": 105,
   "metadata": {},
   "outputs": [
    {
     "data": {
      "text/html": [
       "<div>\n",
       "<style scoped>\n",
       "    .dataframe tbody tr th:only-of-type {\n",
       "        vertical-align: middle;\n",
       "    }\n",
       "\n",
       "    .dataframe tbody tr th {\n",
       "        vertical-align: top;\n",
       "    }\n",
       "\n",
       "    .dataframe thead th {\n",
       "        text-align: right;\n",
       "    }\n",
       "</style>\n",
       "<table border=\"1\" class=\"dataframe\">\n",
       "  <thead>\n",
       "    <tr style=\"text-align: right;\">\n",
       "      <th></th>\n",
       "      <th>user id</th>\n",
       "      <th>test group</th>\n",
       "      <th>converted</th>\n",
       "      <th>total ads</th>\n",
       "      <th>most ads day</th>\n",
       "      <th>most ads hour</th>\n",
       "    </tr>\n",
       "  </thead>\n",
       "  <tbody>\n",
       "    <tr>\n",
       "      <th>count</th>\n",
       "      <td>5.881010e+05</td>\n",
       "      <td>588101</td>\n",
       "      <td>588101</td>\n",
       "      <td>588101.000000</td>\n",
       "      <td>588101</td>\n",
       "      <td>588101.000000</td>\n",
       "    </tr>\n",
       "    <tr>\n",
       "      <th>unique</th>\n",
       "      <td>NaN</td>\n",
       "      <td>2</td>\n",
       "      <td>2</td>\n",
       "      <td>NaN</td>\n",
       "      <td>7</td>\n",
       "      <td>NaN</td>\n",
       "    </tr>\n",
       "    <tr>\n",
       "      <th>top</th>\n",
       "      <td>NaN</td>\n",
       "      <td>ad</td>\n",
       "      <td>False</td>\n",
       "      <td>NaN</td>\n",
       "      <td>Friday</td>\n",
       "      <td>NaN</td>\n",
       "    </tr>\n",
       "    <tr>\n",
       "      <th>freq</th>\n",
       "      <td>NaN</td>\n",
       "      <td>564577</td>\n",
       "      <td>573258</td>\n",
       "      <td>NaN</td>\n",
       "      <td>92608</td>\n",
       "      <td>NaN</td>\n",
       "    </tr>\n",
       "    <tr>\n",
       "      <th>mean</th>\n",
       "      <td>1.310692e+06</td>\n",
       "      <td>NaN</td>\n",
       "      <td>NaN</td>\n",
       "      <td>24.820876</td>\n",
       "      <td>NaN</td>\n",
       "      <td>14.469061</td>\n",
       "    </tr>\n",
       "    <tr>\n",
       "      <th>std</th>\n",
       "      <td>2.022260e+05</td>\n",
       "      <td>NaN</td>\n",
       "      <td>NaN</td>\n",
       "      <td>43.715181</td>\n",
       "      <td>NaN</td>\n",
       "      <td>4.834634</td>\n",
       "    </tr>\n",
       "    <tr>\n",
       "      <th>min</th>\n",
       "      <td>9.000000e+05</td>\n",
       "      <td>NaN</td>\n",
       "      <td>NaN</td>\n",
       "      <td>1.000000</td>\n",
       "      <td>NaN</td>\n",
       "      <td>0.000000</td>\n",
       "    </tr>\n",
       "    <tr>\n",
       "      <th>25%</th>\n",
       "      <td>1.143190e+06</td>\n",
       "      <td>NaN</td>\n",
       "      <td>NaN</td>\n",
       "      <td>4.000000</td>\n",
       "      <td>NaN</td>\n",
       "      <td>11.000000</td>\n",
       "    </tr>\n",
       "    <tr>\n",
       "      <th>50%</th>\n",
       "      <td>1.313725e+06</td>\n",
       "      <td>NaN</td>\n",
       "      <td>NaN</td>\n",
       "      <td>13.000000</td>\n",
       "      <td>NaN</td>\n",
       "      <td>14.000000</td>\n",
       "    </tr>\n",
       "    <tr>\n",
       "      <th>75%</th>\n",
       "      <td>1.484088e+06</td>\n",
       "      <td>NaN</td>\n",
       "      <td>NaN</td>\n",
       "      <td>27.000000</td>\n",
       "      <td>NaN</td>\n",
       "      <td>18.000000</td>\n",
       "    </tr>\n",
       "    <tr>\n",
       "      <th>max</th>\n",
       "      <td>1.654483e+06</td>\n",
       "      <td>NaN</td>\n",
       "      <td>NaN</td>\n",
       "      <td>2065.000000</td>\n",
       "      <td>NaN</td>\n",
       "      <td>23.000000</td>\n",
       "    </tr>\n",
       "  </tbody>\n",
       "</table>\n",
       "</div>"
      ],
      "text/plain": [
       "             user id test group converted      total ads most ads day  \\\n",
       "count   5.881010e+05     588101    588101  588101.000000       588101   \n",
       "unique           NaN          2         2            NaN            7   \n",
       "top              NaN         ad     False            NaN       Friday   \n",
       "freq             NaN     564577    573258            NaN        92608   \n",
       "mean    1.310692e+06        NaN       NaN      24.820876          NaN   \n",
       "std     2.022260e+05        NaN       NaN      43.715181          NaN   \n",
       "min     9.000000e+05        NaN       NaN       1.000000          NaN   \n",
       "25%     1.143190e+06        NaN       NaN       4.000000          NaN   \n",
       "50%     1.313725e+06        NaN       NaN      13.000000          NaN   \n",
       "75%     1.484088e+06        NaN       NaN      27.000000          NaN   \n",
       "max     1.654483e+06        NaN       NaN    2065.000000          NaN   \n",
       "\n",
       "        most ads hour  \n",
       "count   588101.000000  \n",
       "unique            NaN  \n",
       "top               NaN  \n",
       "freq              NaN  \n",
       "mean        14.469061  \n",
       "std          4.834634  \n",
       "min          0.000000  \n",
       "25%         11.000000  \n",
       "50%         14.000000  \n",
       "75%         18.000000  \n",
       "max         23.000000  "
      ]
     },
     "execution_count": 105,
     "metadata": {},
     "output_type": "execute_result"
    }
   ],
   "source": [
    "# Generate descriptive statistics for all data columns, include object, category etc\n",
    "df.describe(include='all')"
   ]
  },
  {
   "cell_type": "markdown",
   "metadata": {},
   "source": [
    "User Id\n",
    "- There are a total of 588,101 users included in this data set.\n",
    "\n",
    "Test Group\n",
    "- The data consists of users from two different test groups.\n",
    "- The majority of users (564,577) belong to the ad group.\n",
    "\n",
    "Converted\n",
    "- There are two conversion categories: \"True\" for those who purchased the product and \"False\" for those who didn't.\n",
    "- The majority of users (approximately 97%) fall under the \"False\" category, meaning they haven't converted yet. \n",
    "- This suggests a low conversion rate overall.\n",
    "\n",
    "Total Ads (watched by a user)\n",
    "- On average, users watch nearly 25 ads.\n",
    "- However, the median is only 13 ads, indicating that a small number of users watch a very high number of ads, skewing the average.\n",
    "- The maximum number of ads watched by a single user is 2,065, further supporting the rightward skew in the data.\n",
    "\n",
    "Most Ads (watched per) Day\n",
    "- Data for seven days of the week is included (presumably Monday through Sunday).\n",
    "- Friday is the day when users watch the most ads on average.\n",
    "\n",
    "Most Ads (watched per) Hour\n",
    "- The average number of ads watched per hour (14.5) is close to the median (14), suggesting a relatively balanced distribution of ad watching throughout the day."
   ]
  },
  {
   "cell_type": "markdown",
   "metadata": {},
   "source": [
    "# Data Cleaning"
   ]
  },
  {
   "cell_type": "markdown",
   "metadata": {},
   "source": [
    "**Check for duplicates**\n"
   ]
  },
  {
   "cell_type": "code",
   "execution_count": 106,
   "metadata": {},
   "outputs": [
    {
     "name": "stdout",
     "output_type": "stream",
     "text": [
      "Shape of dataframe: (588101, 6)\n",
      "Shape of dataframe with duplicates dropped: (588101, 6)\n",
      "No. of rows with duplicates : 0\n"
     ]
    }
   ],
   "source": [
    "print('Shape of dataframe:', df.shape)\n",
    "print('Shape of dataframe with duplicates dropped:', df.drop_duplicates().shape)\n",
    "\n",
    "df_row = len(df)\n",
    "df_row_no_dupe = len(df.drop_duplicates())\n",
    "df_row_dupe = df_row - df_row_no_dupe\n",
    "\n",
    "print('No. of rows with duplicates :', df_row_dupe)"
   ]
  },
  {
   "cell_type": "markdown",
   "metadata": {},
   "source": [
    "**Check for Outliers**"
   ]
  },
  {
   "cell_type": "code",
   "execution_count": 147,
   "metadata": {},
   "outputs": [
    {
     "name": "stdout",
     "output_type": "stream",
     "text": [
      "numeric variables: ['user_id', 'total_ads', 'most_ads_hour']\n",
      "\n",
      "user_id\n",
      "LL: 631843.0 | UL: 1995435.0\n",
      "Rows of outliers : 0\n",
      "Percent outliers : 0.00%\n",
      "\n",
      "total_ads\n",
      "LL: -30.5 | UL: 61.5\n",
      "Rows of outliers : 52057\n",
      "Percent outliers : 8.85%\n",
      "\n",
      "most_ads_hour\n",
      "LL: 0.5 | UL: 28.5\n",
      "Rows of outliers : 5536\n",
      "Percent outliers : 0.94%\n",
      "\n"
     ]
    }
   ],
   "source": [
    "# Separate numerical and categorical variables into different df\n",
    "num_cols = df.select_dtypes(include=['int64','float64']).columns.tolist()\n",
    "print('numeric variables:', num_cols)\n",
    "print('')\n",
    "\n",
    "# Loop to cycle through numerical columns and create IQR for each column\n",
    "for col in num_cols:\n",
    "    print(col) #Print column name\n",
    "    percentile25 = df[col].quantile(0.25) # Compute the 25th percentile value \n",
    "    percentile75 = df[col].quantile(0.75) # Compute the 75th percentile value   \n",
    "    iqr = percentile75 - percentile25 # Compute the interquartile range\n",
    "    \n",
    "    # Define the upper limit and lower limit for non-outlier values in ``\n",
    "    upper_limit = percentile75 + 1.5 * iqr\n",
    "    lower_limit = percentile25 - 1.5 * iqr\n",
    "    print('LL:', lower_limit, '|', 'UL:', upper_limit)\n",
    "\n",
    "    # Identify subset of data containing outliers\n",
    "    outliers = df[(df[col] > upper_limit) | (df[col] < lower_limit)]\n",
    "\n",
    "    # Count how many rows in the data contain outliers \n",
    "    print('Rows of outliers :', len(outliers))\n",
    "    percent_out = (len(outliers)/df.shape[0]) *100\n",
    "    print(f'Percent outliers : {percent_out:.2f}%')\n",
    "    print('')"
   ]
  },
  {
   "cell_type": "markdown",
   "metadata": {},
   "source": [
    "- there's a relatively high number of outliers for the `total_ads` feature. These outliers represent approximately 9% of the total data, which is quite substantial.\n",
    "- In contrast, the most_ads_hour has a much lower proportion of outliers, only around 0.94% of the total data\n"
   ]
  },
  {
   "cell_type": "markdown",
   "metadata": {},
   "source": [
    "**Rename columns to remove the space**"
   ]
  },
  {
   "cell_type": "code",
   "execution_count": 107,
   "metadata": {},
   "outputs": [
    {
     "data": {
      "text/html": [
       "<div>\n",
       "<style scoped>\n",
       "    .dataframe tbody tr th:only-of-type {\n",
       "        vertical-align: middle;\n",
       "    }\n",
       "\n",
       "    .dataframe tbody tr th {\n",
       "        vertical-align: top;\n",
       "    }\n",
       "\n",
       "    .dataframe thead th {\n",
       "        text-align: right;\n",
       "    }\n",
       "</style>\n",
       "<table border=\"1\" class=\"dataframe\">\n",
       "  <thead>\n",
       "    <tr style=\"text-align: right;\">\n",
       "      <th></th>\n",
       "      <th>user_id</th>\n",
       "      <th>test_group</th>\n",
       "      <th>converted</th>\n",
       "      <th>total_ads</th>\n",
       "      <th>most_ads_day</th>\n",
       "      <th>most_ads_hour</th>\n",
       "    </tr>\n",
       "  </thead>\n",
       "  <tbody>\n",
       "    <tr>\n",
       "      <th>0</th>\n",
       "      <td>1069124</td>\n",
       "      <td>ad</td>\n",
       "      <td>False</td>\n",
       "      <td>130</td>\n",
       "      <td>Monday</td>\n",
       "      <td>20</td>\n",
       "    </tr>\n",
       "    <tr>\n",
       "      <th>1</th>\n",
       "      <td>1119715</td>\n",
       "      <td>ad</td>\n",
       "      <td>False</td>\n",
       "      <td>93</td>\n",
       "      <td>Tuesday</td>\n",
       "      <td>22</td>\n",
       "    </tr>\n",
       "    <tr>\n",
       "      <th>2</th>\n",
       "      <td>1144181</td>\n",
       "      <td>ad</td>\n",
       "      <td>False</td>\n",
       "      <td>21</td>\n",
       "      <td>Tuesday</td>\n",
       "      <td>18</td>\n",
       "    </tr>\n",
       "    <tr>\n",
       "      <th>3</th>\n",
       "      <td>1435133</td>\n",
       "      <td>ad</td>\n",
       "      <td>False</td>\n",
       "      <td>355</td>\n",
       "      <td>Tuesday</td>\n",
       "      <td>10</td>\n",
       "    </tr>\n",
       "    <tr>\n",
       "      <th>4</th>\n",
       "      <td>1015700</td>\n",
       "      <td>ad</td>\n",
       "      <td>False</td>\n",
       "      <td>276</td>\n",
       "      <td>Friday</td>\n",
       "      <td>14</td>\n",
       "    </tr>\n",
       "  </tbody>\n",
       "</table>\n",
       "</div>"
      ],
      "text/plain": [
       "   user_id test_group  converted  total_ads most_ads_day  most_ads_hour\n",
       "0  1069124         ad      False        130       Monday             20\n",
       "1  1119715         ad      False         93      Tuesday             22\n",
       "2  1144181         ad      False         21      Tuesday             18\n",
       "3  1435133         ad      False        355      Tuesday             10\n",
       "4  1015700         ad      False        276       Friday             14"
      ]
     },
     "execution_count": 107,
     "metadata": {},
     "output_type": "execute_result"
    }
   ],
   "source": [
    "df.rename(columns=lambda x: x.strip().replace(\" \", \"_\"), inplace=True)\n",
    "df.head()"
   ]
  },
  {
   "cell_type": "markdown",
   "metadata": {},
   "source": [
    "# Exploratory Data Analysis"
   ]
  },
  {
   "cell_type": "code",
   "execution_count": 65,
   "metadata": {},
   "outputs": [],
   "source": [
    "# Import functions for plotting\n",
    "from plots import *"
   ]
  },
  {
   "cell_type": "markdown",
   "metadata": {},
   "source": [
    "**Check unique values for categorical variables**"
   ]
  },
  {
   "cell_type": "markdown",
   "metadata": {},
   "source": [
    "### test_group"
   ]
  },
  {
   "cell_type": "code",
   "execution_count": 133,
   "metadata": {},
   "outputs": [
    {
     "data": {
      "image/png": "[encoded data removed]",
      "text/plain": [
       "<Figure size 500x300 with 1 Axes>"
      ]
     },
     "metadata": {},
     "output_type": "display_data"
    }
   ],
   "source": [
    "# Countplot function\n",
    "ctplt(df,'test_group',None,5,3,None,0,'n',False,'y','#','converted')"
   ]
  },
  {
   "cell_type": "markdown",
   "metadata": {},
   "source": [
    "- the 2 test groups are: ad and psa\n",
    "- 96% of viewers belong to the Ad group.\n",
    "- Around 14,000 viewers purchased the product after seeing the Ad.\n",
    "- Only 420 viewers purchased from the PSA group."
   ]
  },
  {
   "cell_type": "markdown",
   "metadata": {},
   "source": [
    "**Calculate the conversion rate for each group**"
   ]
  },
  {
   "cell_type": "markdown",
   "metadata": {},
   "source": [
    "conversion rate: the number of viewers that purchased the product out of the total group size"
   ]
  },
  {
   "cell_type": "code",
   "execution_count": 135,
   "metadata": {},
   "outputs": [],
   "source": [
    "# save test_group values to list\n",
    "groups = df['test_group'].unique().tolist()\n",
    "\n",
    "# Calculate conversion in each test group\n",
    "def calculate_conversion_rate_difference(df, groups):\n",
    "  \"\"\"\n",
    "  This function calculates the conversion rate for each group in the provided DataFrame 'df' \n",
    "  and the difference in conversion rate between consecutive groups specified in 'groups' list.\n",
    "\n",
    "      df (pandas.DataFrame): The DataFrame containing 'test_group' and 'converted' columns.\n",
    "      groups (list): A list containing the group names for which conversion rates are to be calculated.\n",
    "\n",
    "  Returns:\n",
    "      None: The function prints the conversion rate for each group and the difference between it and the previous group's rate.\n",
    "  \"\"\"\n",
    "\n",
    "  prev_percent_convert = None\n",
    "\n",
    "  for group in groups:\n",
    "    count = df[(df['test_group'] == group)].shape[0]\n",
    "    convert_count = df[(df['test_group'] == group) & (df['converted'] == True)].shape[0]\n",
    "    percent_convert = (convert_count / count) * 100\n",
    "    print(f'Conversion rate in {group} group:  {percent_convert:.2f}%')\n",
    "\n",
    "    if prev_percent_convert is not None:\n",
    "      percent_difference = ((prev_percent_convert-percent_convert)/percent_convert) *100\n",
    "      print(f'% Difference between the conversion rates: {percent_difference:.1f}%')\n",
    "\n",
    "    prev_percent_convert = percent_convert"
   ]
  },
  {
   "cell_type": "code",
   "execution_count": 136,
   "metadata": {},
   "outputs": [
    {
     "name": "stdout",
     "output_type": "stream",
     "text": [
      "Conversion rate in ad group:  2.55%\n",
      "Conversion rate in psa group:  1.79%\n",
      "% Difference between the conversion rates: 43.1%\n"
     ]
    }
   ],
   "source": [
    "# apply function\n",
    "calculate_conversion_rate_difference(df.copy(), groups.copy())"
   ]
  },
  {
   "cell_type": "markdown",
   "metadata": {},
   "source": [
    "Our analysis revealed that viewers who watched the advertisement (Ad group) achieved a conversion rate **43% higher** compared to the Public Service Announcement (PSA group).\n",
    "\n",
    "**Success Criteria:**\n",
    "\n",
    "We previously defined a success criterion for this campaign: the Ad group's conversion rate should be at least 20% higher than the PSA group.\n",
    "\n",
    "**Result**\n",
    "\n",
    "Since the Ad group's conversion rate surpasses the 20% threshold, exceeding it by an impressive 43%, we can confidently conclude that this campaign is a success."
   ]
  },
  {
   "cell_type": "markdown",
   "metadata": {},
   "source": [
    "`converted`"
   ]
  },
  {
   "cell_type": "code",
   "execution_count": 140,
   "metadata": {},
   "outputs": [
    {
     "data": {
      "image/png": "[encoded data removed]",
      "text/plain": [
       "<Figure size 300x300 with 1 Axes>"
      ]
     },
     "metadata": {},
     "output_type": "display_data"
    }
   ],
   "source": [
    "# Countplot function\n",
    "ctplt(df,'converted',None,3,3,None,0,'n',False,'y','%',None)"
   ]
  },
  {
   "cell_type": "markdown",
   "metadata": {},
   "source": [
    "- False indicate the viewers did not purchase the product\n",
    "- While a significant portion (93.5%) of users saw the ads, the actual purchase rate was low. \n",
    "- Only 2.5% of viewers converted into paying customers."
   ]
  },
  {
   "cell_type": "markdown",
   "metadata": {},
   "source": [
    "`total ads (watched)`"
   ]
  },
  {
   "cell_type": "code",
   "execution_count": 70,
   "metadata": {},
   "outputs": [
    {
     "data": {
      "image/png": "[encoded data removed]",
      "text/plain": [
       "<Figure size 800x300 with 1 Axes>"
      ]
     },
     "metadata": {},
     "output_type": "display_data"
    }
   ],
   "source": [
    "# Countplot function\n",
    "ctplt(df,'total_ads',None,8,3,10,None,'n',False,'y','%',None)"
   ]
  },
  {
   "cell_type": "markdown",
   "metadata": {},
   "source": [
    "- most viewers watch 1-5 ads in total "
   ]
  },
  {
   "cell_type": "code",
   "execution_count": 71,
   "metadata": {},
   "outputs": [
    {
     "data": {
      "text/plain": [
       "(-1.065, 104.2]    0.963345\n",
       "Name: proportion, dtype: float64"
      ]
     },
     "execution_count": 71,
     "metadata": {},
     "output_type": "execute_result"
    }
   ],
   "source": [
    "df['total_ads'].value_counts(bins=20,normalize=True).head(1)"
   ]
  },
  {
   "cell_type": "code",
   "execution_count": 72,
   "metadata": {},
   "outputs": [
    {
     "data": {
      "text/plain": [
       "(-1.065, 1033.0]    0.999954\n",
       "(1033.0, 2065.0]    0.000046\n",
       "Name: proportion, dtype: float64"
      ]
     },
     "execution_count": 72,
     "metadata": {},
     "output_type": "execute_result"
    }
   ],
   "source": [
    "df['total_ads'].value_counts(bins=2,normalize=True)"
   ]
  },
  {
   "cell_type": "markdown",
   "metadata": {},
   "source": [
    "- 96% of viewers watch less than 104 ads in total \n",
    "- less than 0.01% watch over 1033 ads"
   ]
  },
  {
   "cell_type": "code",
   "execution_count": 149,
   "metadata": {},
   "outputs": [
    {
     "data": {
      "text/html": [
       "<div>\n",
       "<style scoped>\n",
       "    .dataframe tbody tr th:only-of-type {\n",
       "        vertical-align: middle;\n",
       "    }\n",
       "\n",
       "    .dataframe tbody tr th {\n",
       "        vertical-align: top;\n",
       "    }\n",
       "\n",
       "    .dataframe thead th {\n",
       "        text-align: right;\n",
       "    }\n",
       "</style>\n",
       "<table border=\"1\" class=\"dataframe\">\n",
       "  <thead>\n",
       "    <tr style=\"text-align: right;\">\n",
       "      <th></th>\n",
       "      <th>user_id</th>\n",
       "      <th>test_group</th>\n",
       "      <th>converted</th>\n",
       "      <th>total_ads</th>\n",
       "      <th>most_ads_day</th>\n",
       "      <th>most_ads_hour</th>\n",
       "    </tr>\n",
       "  </thead>\n",
       "  <tbody>\n",
       "    <tr>\n",
       "      <th>64</th>\n",
       "      <td>1261130</td>\n",
       "      <td>ad</td>\n",
       "      <td>False</td>\n",
       "      <td>1057</td>\n",
       "      <td>Thursday</td>\n",
       "      <td>20</td>\n",
       "    </tr>\n",
       "    <tr>\n",
       "      <th>107</th>\n",
       "      <td>1389878</td>\n",
       "      <td>ad</td>\n",
       "      <td>True</td>\n",
       "      <td>1328</td>\n",
       "      <td>Saturday</td>\n",
       "      <td>19</td>\n",
       "    </tr>\n",
       "    <tr>\n",
       "      <th>212</th>\n",
       "      <td>1555915</td>\n",
       "      <td>ad</td>\n",
       "      <td>False</td>\n",
       "      <td>1056</td>\n",
       "      <td>Friday</td>\n",
       "      <td>12</td>\n",
       "    </tr>\n",
       "    <tr>\n",
       "      <th>506</th>\n",
       "      <td>1086307</td>\n",
       "      <td>ad</td>\n",
       "      <td>False</td>\n",
       "      <td>1632</td>\n",
       "      <td>Friday</td>\n",
       "      <td>20</td>\n",
       "    </tr>\n",
       "    <tr>\n",
       "      <th>877</th>\n",
       "      <td>1006987</td>\n",
       "      <td>ad</td>\n",
       "      <td>False</td>\n",
       "      <td>1128</td>\n",
       "      <td>Wednesday</td>\n",
       "      <td>13</td>\n",
       "    </tr>\n",
       "    <tr>\n",
       "      <th>1328</th>\n",
       "      <td>1224652</td>\n",
       "      <td>ad</td>\n",
       "      <td>False</td>\n",
       "      <td>1173</td>\n",
       "      <td>Monday</td>\n",
       "      <td>11</td>\n",
       "    </tr>\n",
       "    <tr>\n",
       "      <th>2145</th>\n",
       "      <td>1427896</td>\n",
       "      <td>ad</td>\n",
       "      <td>False</td>\n",
       "      <td>1135</td>\n",
       "      <td>Monday</td>\n",
       "      <td>13</td>\n",
       "    </tr>\n",
       "    <tr>\n",
       "      <th>5022</th>\n",
       "      <td>1165279</td>\n",
       "      <td>ad</td>\n",
       "      <td>True</td>\n",
       "      <td>1129</td>\n",
       "      <td>Friday</td>\n",
       "      <td>14</td>\n",
       "    </tr>\n",
       "    <tr>\n",
       "      <th>7187</th>\n",
       "      <td>1209450</td>\n",
       "      <td>ad</td>\n",
       "      <td>True</td>\n",
       "      <td>1680</td>\n",
       "      <td>Tuesday</td>\n",
       "      <td>22</td>\n",
       "    </tr>\n",
       "    <tr>\n",
       "      <th>7568</th>\n",
       "      <td>1205803</td>\n",
       "      <td>ad</td>\n",
       "      <td>False</td>\n",
       "      <td>1100</td>\n",
       "      <td>Thursday</td>\n",
       "      <td>17</td>\n",
       "    </tr>\n",
       "    <tr>\n",
       "      <th>9355</th>\n",
       "      <td>1280138</td>\n",
       "      <td>ad</td>\n",
       "      <td>False</td>\n",
       "      <td>1229</td>\n",
       "      <td>Saturday</td>\n",
       "      <td>12</td>\n",
       "    </tr>\n",
       "    <tr>\n",
       "      <th>9605</th>\n",
       "      <td>1596993</td>\n",
       "      <td>ad</td>\n",
       "      <td>False</td>\n",
       "      <td>1398</td>\n",
       "      <td>Monday</td>\n",
       "      <td>11</td>\n",
       "    </tr>\n",
       "    <tr>\n",
       "      <th>15334</th>\n",
       "      <td>1512157</td>\n",
       "      <td>ad</td>\n",
       "      <td>True</td>\n",
       "      <td>1491</td>\n",
       "      <td>Wednesday</td>\n",
       "      <td>7</td>\n",
       "    </tr>\n",
       "    <tr>\n",
       "      <th>15896</th>\n",
       "      <td>1614536</td>\n",
       "      <td>ad</td>\n",
       "      <td>False</td>\n",
       "      <td>1302</td>\n",
       "      <td>Friday</td>\n",
       "      <td>10</td>\n",
       "    </tr>\n",
       "    <tr>\n",
       "      <th>15999</th>\n",
       "      <td>1181830</td>\n",
       "      <td>ad</td>\n",
       "      <td>False</td>\n",
       "      <td>1035</td>\n",
       "      <td>Wednesday</td>\n",
       "      <td>12</td>\n",
       "    </tr>\n",
       "    <tr>\n",
       "      <th>16525</th>\n",
       "      <td>1416565</td>\n",
       "      <td>ad</td>\n",
       "      <td>False</td>\n",
       "      <td>1414</td>\n",
       "      <td>Thursday</td>\n",
       "      <td>8</td>\n",
       "    </tr>\n",
       "    <tr>\n",
       "      <th>17452</th>\n",
       "      <td>1456915</td>\n",
       "      <td>ad</td>\n",
       "      <td>False</td>\n",
       "      <td>1267</td>\n",
       "      <td>Wednesday</td>\n",
       "      <td>12</td>\n",
       "    </tr>\n",
       "    <tr>\n",
       "      <th>26650</th>\n",
       "      <td>1348997</td>\n",
       "      <td>ad</td>\n",
       "      <td>False</td>\n",
       "      <td>1321</td>\n",
       "      <td>Friday</td>\n",
       "      <td>7</td>\n",
       "    </tr>\n",
       "    <tr>\n",
       "      <th>26742</th>\n",
       "      <td>1184464</td>\n",
       "      <td>ad</td>\n",
       "      <td>False</td>\n",
       "      <td>2065</td>\n",
       "      <td>Friday</td>\n",
       "      <td>10</td>\n",
       "    </tr>\n",
       "    <tr>\n",
       "      <th>27800</th>\n",
       "      <td>1200489</td>\n",
       "      <td>ad</td>\n",
       "      <td>True</td>\n",
       "      <td>1354</td>\n",
       "      <td>Wednesday</td>\n",
       "      <td>2</td>\n",
       "    </tr>\n",
       "    <tr>\n",
       "      <th>31094</th>\n",
       "      <td>1282521</td>\n",
       "      <td>ad</td>\n",
       "      <td>False</td>\n",
       "      <td>1101</td>\n",
       "      <td>Monday</td>\n",
       "      <td>10</td>\n",
       "    </tr>\n",
       "    <tr>\n",
       "      <th>34938</th>\n",
       "      <td>1571629</td>\n",
       "      <td>ad</td>\n",
       "      <td>False</td>\n",
       "      <td>1196</td>\n",
       "      <td>Thursday</td>\n",
       "      <td>17</td>\n",
       "    </tr>\n",
       "    <tr>\n",
       "      <th>35313</th>\n",
       "      <td>1442639</td>\n",
       "      <td>ad</td>\n",
       "      <td>False</td>\n",
       "      <td>1321</td>\n",
       "      <td>Thursday</td>\n",
       "      <td>6</td>\n",
       "    </tr>\n",
       "    <tr>\n",
       "      <th>47005</th>\n",
       "      <td>1637962</td>\n",
       "      <td>ad</td>\n",
       "      <td>True</td>\n",
       "      <td>1778</td>\n",
       "      <td>Tuesday</td>\n",
       "      <td>18</td>\n",
       "    </tr>\n",
       "    <tr>\n",
       "      <th>66415</th>\n",
       "      <td>1022390</td>\n",
       "      <td>ad</td>\n",
       "      <td>False</td>\n",
       "      <td>1146</td>\n",
       "      <td>Saturday</td>\n",
       "      <td>12</td>\n",
       "    </tr>\n",
       "    <tr>\n",
       "      <th>80496</th>\n",
       "      <td>1351117</td>\n",
       "      <td>ad</td>\n",
       "      <td>True</td>\n",
       "      <td>1391</td>\n",
       "      <td>Tuesday</td>\n",
       "      <td>8</td>\n",
       "    </tr>\n",
       "    <tr>\n",
       "      <th>105189</th>\n",
       "      <td>1255720</td>\n",
       "      <td>ad</td>\n",
       "      <td>False</td>\n",
       "      <td>1232</td>\n",
       "      <td>Sunday</td>\n",
       "      <td>17</td>\n",
       "    </tr>\n",
       "  </tbody>\n",
       "</table>\n",
       "</div>"
      ],
      "text/plain": [
       "        user_id test_group  converted  total_ads most_ads_day  most_ads_hour\n",
       "64      1261130         ad      False       1057     Thursday             20\n",
       "107     1389878         ad       True       1328     Saturday             19\n",
       "212     1555915         ad      False       1056       Friday             12\n",
       "506     1086307         ad      False       1632       Friday             20\n",
       "877     1006987         ad      False       1128    Wednesday             13\n",
       "1328    1224652         ad      False       1173       Monday             11\n",
       "2145    1427896         ad      False       1135       Monday             13\n",
       "5022    1165279         ad       True       1129       Friday             14\n",
       "7187    1209450         ad       True       1680      Tuesday             22\n",
       "7568    1205803         ad      False       1100     Thursday             17\n",
       "9355    1280138         ad      False       1229     Saturday             12\n",
       "9605    1596993         ad      False       1398       Monday             11\n",
       "15334   1512157         ad       True       1491    Wednesday              7\n",
       "15896   1614536         ad      False       1302       Friday             10\n",
       "15999   1181830         ad      False       1035    Wednesday             12\n",
       "16525   1416565         ad      False       1414     Thursday              8\n",
       "17452   1456915         ad      False       1267    Wednesday             12\n",
       "26650   1348997         ad      False       1321       Friday              7\n",
       "26742   1184464         ad      False       2065       Friday             10\n",
       "27800   1200489         ad       True       1354    Wednesday              2\n",
       "31094   1282521         ad      False       1101       Monday             10\n",
       "34938   1571629         ad      False       1196     Thursday             17\n",
       "35313   1442639         ad      False       1321     Thursday              6\n",
       "47005   1637962         ad       True       1778      Tuesday             18\n",
       "66415   1022390         ad      False       1146     Saturday             12\n",
       "80496   1351117         ad       True       1391      Tuesday              8\n",
       "105189  1255720         ad      False       1232       Sunday             17"
      ]
     },
     "execution_count": 149,
     "metadata": {},
     "output_type": "execute_result"
    }
   ],
   "source": [
    "# Filter data based on a condition\n",
    "df.loc[(df[\"total_ads\"] >1033)]"
   ]
  },
  {
   "cell_type": "markdown",
   "metadata": {},
   "source": [
    "`most_ads_day`"
   ]
  },
  {
   "cell_type": "code",
   "execution_count": 73,
   "metadata": {},
   "outputs": [
    {
     "data": {
      "image/png": "[encoded data removed]",
      "text/plain": [
       "<Figure size 700x300 with 1 Axes>"
      ]
     },
     "metadata": {},
     "output_type": "display_data"
    }
   ],
   "source": [
    "# Countplot function\n",
    "ctplt(df,'most_ads_day',None,7,3,None,None,'n',True,'y','%',None)"
   ]
  },
  {
   "cell_type": "markdown",
   "metadata": {},
   "source": [
    "- Ad engagement is fairly consistent throughout the weekdays, with Fridays seeing a slight bump (15.7%) and Tuesdays seeing a slight dip (13.2%). \n",
    "- Overall, ad viewership falls within a narrow range of 13% to 15.7% across all days."
   ]
  },
  {
   "cell_type": "code",
   "execution_count": 74,
   "metadata": {},
   "outputs": [
    {
     "name": "stdout",
     "output_type": "stream",
     "text": [
      "Conversion rate on Monday 3.3%\n",
      "Conversion rate on Tuesday 3.0%\n",
      "Conversion rate on Friday 2.2%\n",
      "Conversion rate on Saturday 2.1%\n",
      "Conversion rate on Wednesday 2.5%\n",
      "Conversion rate on Sunday 2.4%\n",
      "Conversion rate on Thursday 2.2%\n"
     ]
    }
   ],
   "source": [
    "# Calculate conversion rate/day\n",
    "days = df['most_ads_day'].unique().tolist()\n",
    "\n",
    "for day in days:\n",
    "    count = df[(df['most_ads_day'] == day)].shape[0]\n",
    "    convert_count = df[(df['most_ads_day'] == day) & (df['converted'] == 1)].shape[0]\n",
    "    percent_convert = (convert_count/count) * 100\n",
    "    print(f'Conversion rate on {day} {percent_convert:.1f}%')"
   ]
  },
  {
   "cell_type": "markdown",
   "metadata": {},
   "source": [
    "- Conversion rates remain consistently low across all days of the week\n",
    "- Monday has the highest rate at a modest 3.3% \n",
    "- Saturdays see the lowest conversion rate at just 2.1%"
   ]
  },
  {
   "cell_type": "markdown",
   "metadata": {},
   "source": [
    "`most_ads_hour`"
   ]
  },
  {
   "cell_type": "code",
   "execution_count": 75,
   "metadata": {},
   "outputs": [
    {
     "data": {
      "image/png": "[encoded data removed]",
      "text/plain": [
       "<Figure size 1000x300 with 1 Axes>"
      ]
     },
     "metadata": {},
     "output_type": "display_data"
    }
   ],
   "source": [
    "# Countplot function\n",
    "ctplt(df,'most_ads_hour',None,10,3,15,0,'n',False,'y','%',None)"
   ]
  },
  {
   "cell_type": "markdown",
   "metadata": {},
   "source": [
    "- Ad viewership are highest around noon time (11AM-3PM), potentially coinciding with lunchtime breaks.\n",
    "- Engagement remains low throughout the overnight hours (12:00 AM to 7:00 AM) as viewers are probably asleep."
   ]
  },
  {
   "cell_type": "markdown",
   "metadata": {},
   "source": [
    "# AB Testing"
   ]
  },
  {
   "cell_type": "markdown",
   "metadata": {},
   "source": [
    "## The Chi-Squared Test for Independence\n",
    "- hypothesis test that determines whether or not `two categorical variables` are **associated** with each other.\n"
   ]
  },
  {
   "cell_type": "markdown",
   "metadata": {},
   "source": [
    "**1. State the null hypothesis and the alternative hypothesis.**\n",
    "- H0: There **IS NO** association between `test group` and `viewer conversion`\n",
    "- Ha: There **IS** association between `test group` and `viewer conversion`"
   ]
  },
  {
   "cell_type": "markdown",
   "metadata": {},
   "source": [
    "**2. Calculate the chi-squared test statistic (𝛘2)**"
   ]
  },
  {
   "cell_type": "code",
   "execution_count": 80,
   "metadata": {},
   "outputs": [
    {
     "data": {
      "text/html": [
       "<div>\n",
       "<style scoped>\n",
       "    .dataframe tbody tr th:only-of-type {\n",
       "        vertical-align: middle;\n",
       "    }\n",
       "\n",
       "    .dataframe tbody tr th {\n",
       "        vertical-align: top;\n",
       "    }\n",
       "\n",
       "    .dataframe thead th {\n",
       "        text-align: right;\n",
       "    }\n",
       "</style>\n",
       "<table border=\"1\" class=\"dataframe\">\n",
       "  <thead>\n",
       "    <tr style=\"text-align: right;\">\n",
       "      <th>test_group</th>\n",
       "      <th>ad</th>\n",
       "      <th>psa</th>\n",
       "      <th>All</th>\n",
       "    </tr>\n",
       "    <tr>\n",
       "      <th>converted</th>\n",
       "      <th></th>\n",
       "      <th></th>\n",
       "      <th></th>\n",
       "    </tr>\n",
       "  </thead>\n",
       "  <tbody>\n",
       "    <tr>\n",
       "      <th>False</th>\n",
       "      <td>550154</td>\n",
       "      <td>23104</td>\n",
       "      <td>573258</td>\n",
       "    </tr>\n",
       "    <tr>\n",
       "      <th>True</th>\n",
       "      <td>14423</td>\n",
       "      <td>420</td>\n",
       "      <td>14843</td>\n",
       "    </tr>\n",
       "    <tr>\n",
       "      <th>All</th>\n",
       "      <td>564577</td>\n",
       "      <td>23524</td>\n",
       "      <td>588101</td>\n",
       "    </tr>\n",
       "  </tbody>\n",
       "</table>\n",
       "</div>"
      ],
      "text/plain": [
       "test_group      ad    psa     All\n",
       "converted                        \n",
       "False       550154  23104  573258\n",
       "True         14423    420   14843\n",
       "All         564577  23524  588101"
      ]
     },
     "execution_count": 80,
     "metadata": {},
     "output_type": "execute_result"
    }
   ],
   "source": [
    "contingency_table = pd.crosstab(df['converted'], df['test_group'], margins=True)\n",
    "contingency_table"
   ]
  },
  {
   "cell_type": "code",
   "execution_count": 151,
   "metadata": {},
   "outputs": [
    {
     "name": "stdout",
     "output_type": "stream",
     "text": [
      "Chi-Square Statistic: 54.32\n",
      "p-value: 4.51e-11\n",
      "Degrees of Freedom: 4\n",
      "Expected Counts:\n",
      " [[550327.71899045  22930.28100955 573258.        ]\n",
      " [ 14249.28100955    593.71899045  14843.        ]\n",
      " [564577.          23524.         588101.        ]]\n"
     ]
    }
   ],
   "source": [
    "from scipy.stats import chi2_contingency\n",
    "\n",
    "# Perform the chi-square test\n",
    "chi2_statistic, pval, degrees_of_freedom, expected_counts = chi2_contingency(contingency_table.values)\n",
    "\n",
    "# Print the results\n",
    "print(f'Chi-Square Statistic: {chi2_statistic:.2f}')\n",
    "print(f'p-value: {pval:.2e}')\n",
    "print(\"Degrees of Freedom:\", degrees_of_freedom)\n",
    "print(\"Expected Counts:\\n\", expected_counts)"
   ]
  },
  {
   "cell_type": "markdown",
   "metadata": {},
   "source": [
    "**4. Make a conclusion**\n",
    "\n",
    "\n",
    "Your p-value helps you determine whether a result is statistically significant. \n",
    "- low p-value indicates high statistical significance\n",
    "- high p-value indicates low or no statistical significance"
   ]
  },
  {
   "cell_type": "code",
   "execution_count": 152,
   "metadata": {},
   "outputs": [
    {
     "name": "stdout",
     "output_type": "stream",
     "text": [
      "Reject null hypothesis: There is a statistically significant relationship between the two variables.\n"
     ]
    }
   ],
   "source": [
    "# Interpretation (adjust based on your significance level)\n",
    "if pval < 0.05:\n",
    "  print(\"Reject null hypothesis: There is a statistically significant relationship between the two variables.\")\n",
    "else:\n",
    "  print(\"Fail to reject null hypothesis: There is no evidence of a statistically significant relationship between the two variables.\")"
   ]
  },
  {
   "cell_type": "markdown",
   "metadata": {},
   "source": [
    "# Conclusion"
   ]
  },
  {
   "cell_type": "markdown",
   "metadata": {},
   "source": [
    "The companies are interested in answering two questions:\n",
    "\n",
    "1. Would the campaign be successful? Yes \n",
    "2. If the campaign was successful, how much of that success could be attributed to the ads?"
   ]
  }
 ],
 "metadata": {
  "kernelspec": {
   "display_name": "Test",
   "language": "python",
   "name": "python3"
  },
  "language_info": {
   "codemirror_mode": {
    "name": "ipython",
    "version": 3
   },
   "file_extension": ".py",
   "mimetype": "text/x-python",
   "name": "python",
   "nbconvert_exporter": "python",
   "pygments_lexer": "ipython3",
   "version": "3.10.14"
  }
 },
 "nbformat": 4,
 "nbformat_minor": 2
}
